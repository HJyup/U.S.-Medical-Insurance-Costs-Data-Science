{
 "cells": [
  {
   "cell_type": "markdown",
   "id": "395d59e0-b73d-45a9-b433-80bcb44ced34",
   "metadata": {},
   "source": [
    "# U.S. Medical Insurance Costs"
   ]
  },
  {
   "cell_type": "markdown",
   "id": "4089287a-7d14-4fef-b174-a7534aa3cc2e",
   "metadata": {},
   "source": [
    " After analyzing the date, we are faced with three questions:\n",
    "   * The difference in cost between <strong>smokers and non-smokers</strong>.\n",
    "   * Insurance costs for <strong>each patient age</strong>\n",
    "   * <strong>Regional</strong> cost comparison"
   ]
  },
  {
   "cell_type": "markdown",
   "id": "05f678c9-ea53-4060-bdae-de086e451655",
   "metadata": {},
   "source": [
    "The first thing to do is to import the necessary modules."
   ]
  },
  {
   "cell_type": "code",
   "execution_count": 10,
   "id": "788348f2-35d6-4c89-972a-042812738fbe",
   "metadata": {},
   "outputs": [],
   "source": [
    "import csv"
   ]
  },
  {
   "cell_type": "code",
   "execution_count": 11,
   "id": "717a652d-ca0f-4b53-a543-bd2c2bccc8b8",
   "metadata": {},
   "outputs": [],
   "source": [
    "from matplotlib import pyplot as plt"
   ]
  },
  {
   "cell_type": "markdown",
   "id": "c0fbc90a-6446-43ec-abb8-42d996327948",
   "metadata": {},
   "source": [
    "The <i>csv module</i> is needed to process the data file for further analysis."
   ]
  },
  {
   "cell_type": "markdown",
   "id": "0836af43-378a-4df1-b520-9f2f824a353c",
   "metadata": {},
   "source": [
    "The <i>pyplot module</i> is needed to analyze data with visualizations."
   ]
  },
  {
   "cell_type": "markdown",
   "id": "d132d3de-164d-4553-b9b9-e87e32f7e2a2",
   "metadata": {},
   "source": [
    "Now, we need to read the file <i>insurance.csv</i>."
   ]
  },
  {
   "cell_type": "code",
   "execution_count": 12,
   "id": "46b6b35c-0588-4aa8-b9d4-86d46760d812",
   "metadata": {
    "tags": []
   },
   "outputs": [],
   "source": [
    "insurance_rows = []\n",
    "with open('insurance.csv', 'r') as insurance_file:\n",
    "    csv_file = csv.reader(insurance_file)\n",
    "    insurance_header = next(csv_file)\n",
    "    for row in csv_file:\n",
    "        insurance_rows.append(row)"
   ]
  },
  {
   "cell_type": "markdown",
   "id": "d3540398-c0dd-4ea5-afe8-31e54aa104fd",
   "metadata": {},
   "source": [
    " At this point, we were able to get the date from the file into our two variables. Now we can rearrange them as we want."
   ]
  },
  {
   "cell_type": "markdown",
   "id": "9bb0cb90-cf63-4798-ad7d-18560d93a503",
   "metadata": {},
   "source": [
    "We'll make a list with information about each patient in the form of a dictionary."
   ]
  },
  {
   "cell_type": "code",
   "execution_count": 13,
   "id": "cb077082-80dc-4435-8a3f-350b0b625460",
   "metadata": {},
   "outputs": [],
   "source": [
    "list_with_data_of_patient = []\n",
    "for row in insurance_rows:\n",
    "    patient_dict = {}\n",
    "    for header, data in zip(insurance_header, row):\n",
    "        patient_dict[header] = data\n",
    "    list_with_data_of_patient.append(patient_dict)"
   ]
  },
  {
   "cell_type": "markdown",
   "id": "d0155c10-c487-4a73-afba-b61433763aa7",
   "metadata": {},
   "source": [
    "## The difference in cost between smokers and non-smokers"
   ]
  },
  {
   "cell_type": "markdown",
   "id": "ac43ed5b-2453-4d1b-bc61-8402c4f5b05a",
   "metadata": {
    "tags": []
   },
   "source": [
    "Create <strong>two variables</strong> to store the cost for smokers and non-smokers."
   ]
  },
  {
   "cell_type": "markdown",
   "id": "26ecf9aa-d4bd-41a5-a7cb-de484d292627",
   "metadata": {},
   "source": [
    "Data costs also depend on other parameters, so it is rational to find an <strong>average</strong> for smokers and non-smokers and <strong>compare</strong> them."
   ]
  },
  {
   "cell_type": "markdown",
   "id": "2f9135b0-401b-4442-9e1b-5c5f9216542f",
   "metadata": {},
   "source": [
    "<i>smokers variable</i>"
   ]
  },
  {
   "cell_type": "code",
   "execution_count": 14,
   "id": "3f09bd2a-0591-4707-bed1-466554d500c9",
   "metadata": {},
   "outputs": [],
   "source": [
    "smokers = 0\n",
    "count = 0\n",
    "for patient in list_with_data_of_patient:\n",
    "    if patient['smoker'] == 'yes':\n",
    "        smokers += float(patient['charges'])\n",
    "        count += 1\n",
    "smoker_average = smokers / count"
   ]
  },
  {
   "cell_type": "markdown",
   "id": "9f021417-b863-437e-aa0f-086c77cdc9a7",
   "metadata": {},
   "source": [
    "Average smokers cost:"
   ]
  },
  {
   "cell_type": "code",
   "execution_count": 15,
   "id": "0cd3d128-84b6-4c8a-9387-623ea58456bf",
   "metadata": {
    "collapsed": true,
    "jupyter": {
     "outputs_hidden": true
    },
    "tags": []
   },
   "outputs": [
    {
     "name": "stdout",
     "output_type": "stream",
     "text": [
      "32050.23183153285\n"
     ]
    }
   ],
   "source": [
    "print(smoker_average)"
   ]
  },
  {
   "cell_type": "markdown",
   "id": "52c70c7f-99b7-4403-a872-9833d535c31d",
   "metadata": {},
   "source": [
    "<i>non-smokers variable</i>"
   ]
  },
  {
   "cell_type": "code",
   "execution_count": 16,
   "id": "fce27bf9-0277-4539-861e-2034be56323d",
   "metadata": {},
   "outputs": [],
   "source": [
    "non_smokers = 0\n",
    "count = 0\n",
    "for patient in list_with_data_of_patient:\n",
    "    if patient['smoker'] == 'no':\n",
    "        non_smokers += float(patient['charges'])\n",
    "        count += 1\n",
    "non_smoker_average = non_smokers / count"
   ]
  },
  {
   "cell_type": "markdown",
   "id": "0c5680a8-77c2-4491-b424-0e893ebdb17d",
   "metadata": {},
   "source": [
    "Average non-smokers cost:"
   ]
  },
  {
   "cell_type": "code",
   "execution_count": 17,
   "id": "c69d1db2-211e-4105-942f-c936fd91ede8",
   "metadata": {
    "collapsed": true,
    "jupyter": {
     "outputs_hidden": true
    },
    "tags": []
   },
   "outputs": [
    {
     "name": "stdout",
     "output_type": "stream",
     "text": [
      "8434.268297856199\n"
     ]
    }
   ],
   "source": [
    "print(non_smoker_average)"
   ]
  },
  {
   "cell_type": "markdown",
   "id": "823fabf6-a9ac-4075-8f06-bb78f1448fc3",
   "metadata": {},
   "source": [
    "Let's visualise out data:"
   ]
  },
  {
   "cell_type": "code",
   "execution_count": 80,
   "id": "65f33948-9825-4fb1-8d2d-22a25642183a",
   "metadata": {
    "tags": []
   },
   "outputs": [
    {
     "data": {
      "text/plain": [
       "<function matplotlib.pyplot.show(close=None, block=None)>"
      ]
     },
     "execution_count": 80,
     "metadata": {},
     "output_type": "execute_result"
    },
    {
     "data": {
      "image/png": "[encoded data removed]",
      "text/plain": [
       "<Figure size 432x288 with 1 Axes>"
      ]
     },
     "metadata": {
      "needs_background": "light"
     },
     "output_type": "display_data"
    }
   ],
   "source": [
    "data = [int(smoker_average), int(non_smoker_average)]\n",
    "labels = ['Smokers', 'Non smokers']\n",
    "plt.bar(labels, data, width = 0.6)\n",
    "plt.title(\"Difference between smokers and Non smokers\")\n",
    "plt.show"
   ]
  },
  {
   "cell_type": "markdown",
   "id": "99af8ff2-7c2e-4c48-88ce-07fd0de1dedd",
   "metadata": {},
   "source": [
    "We can see that the difference is 380%."
   ]
  },
  {
   "cell_type": "markdown",
   "id": "74d565ae-477e-44a8-aa62-61235d0af587",
   "metadata": {},
   "source": [
    "## Insurance costs for each patient age"
   ]
  },
  {
   "cell_type": "markdown",
   "id": "8490ed27-c648-4659-9a5c-528c289985ea",
   "metadata": {},
   "source": [
    "Create a dictionary with a cost for each age of the patient. If there are two values for one argument, we will find the average."
   ]
  },
  {
   "cell_type": "code",
   "execution_count": 48,
   "id": "29e46188-aeaf-4074-8020-afc9ec960ff2",
   "metadata": {},
   "outputs": [],
   "source": [
    "all_ages = set([int(patient['age']) for patient in list_with_data_of_patient])"
   ]
  },
  {
   "cell_type": "markdown",
   "id": "885249fe-54e5-45b1-b401-83e0c8487281",
   "metadata": {},
   "source": [
    "Filter the dictionary for each age, so that it does not repeat also find the average for each"
   ]
  },
  {
   "cell_type": "code",
   "execution_count": 69,
   "id": "b84d8655-cd0a-405f-a31e-1f7b8606b548",
   "metadata": {},
   "outputs": [],
   "source": [
    "ages_cost_dict = {}\n",
    "for num in all_ages_set:\n",
    "    ages_cost_dict[num] = []\n",
    "for patient in list_with_data_of_patient:\n",
    "    ages_cost_dict[int(patient['age'])].append(float(patient['charges']))"
   ]
  },
  {
   "cell_type": "code",
   "execution_count": 70,
   "id": "8c94037c-bbb1-432a-a55b-a3e4f6a8466f",
   "metadata": {},
   "outputs": [],
   "source": [
    "for key in ages_cost_dict.keys():\n",
    "    count = 0\n",
    "    costs = 0\n",
    "    for item in ages_cost_dict[key]:\n",
    "        costs += item\n",
    "        count += 1\n",
    "    ages_cost_dict[key] = costs / count"
   ]
  },
  {
   "cell_type": "markdown",
   "id": "947c8a92-6730-4bb3-933d-4b18149587d5",
   "metadata": {},
   "source": [
    "Visualizing the data"
   ]
  },
  {
   "cell_type": "code",
   "execution_count": 72,
   "id": "6f73805b-a370-400f-bcb8-d67300cf0863",
   "metadata": {},
   "outputs": [],
   "source": [
    "all_costs = [value for value in ages_cost_dict.values()]"
   ]
  },
  {
   "cell_type": "code",
   "execution_count": 75,
   "id": "8ed8be05-622a-4c44-95ea-0c00061f8be5",
   "metadata": {},
   "outputs": [
    {
     "data": {
      "image/png": "[encoded data removed]",
      "text/plain": [
       "<Figure size 432x288 with 1 Axes>"
      ]
     },
     "metadata": {
      "needs_background": "light"
     },
     "output_type": "display_data"
    }
   ],
   "source": [
    "plt.plot(list(all_ages), all_costs)\n",
    "plt.show()"
   ]
  },
  {
   "cell_type": "markdown",
   "id": "c8f29dfc-d57b-455d-a629-2c692519352a",
   "metadata": {},
   "source": [
    "As we can see, the graph has an unstable character, because other parameters also pour into it, but if you look at the whole, the range of values increases with age."
   ]
  },
  {
   "cell_type": "markdown",
   "id": "24e23be1-e588-4576-80e4-0aec04ec5127",
   "metadata": {},
   "source": [
    "## Regional cost comparison"
   ]
  },
  {
   "cell_type": "code",
   "execution_count": null,
   "id": "dd1fa3c4-3434-4478-9a8a-3e29e09c7c73",
   "metadata": {},
   "outputs": [],
   "source": []
  }
 ],
 "metadata": {
  "kernelspec": {
   "display_name": "Python 3 (ipykernel)",
   "language": "python",
   "name": "python3"
  },
  "language_info": {
   "codemirror_mode": {
    "name": "ipython",
    "version": 3
   },
   "file_extension": ".py",
   "mimetype": "text/x-python",
   "name": "python",
   "nbconvert_exporter": "python",
   "pygments_lexer": "ipython3",
   "version": "3.9.7"
  }
 },
 "nbformat": 4,
 "nbformat_minor": 5
}
